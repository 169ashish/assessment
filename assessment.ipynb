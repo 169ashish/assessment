{
 "cells": [
  {
   "cell_type": "code",
   "execution_count": 1,
   "id": "263c108c",
   "metadata": {},
   "outputs": [
    {
     "name": "stdout",
     "output_type": "stream",
     "text": [
      "[['City', 'Fall', 'Winter', 'Spring', 'Summer'], ['London', '68', '94', '103', '21'], ['Paris', '46', '86', '26', '70'], ['New York', '106', '105', '84', '70'], ['Dubai', '107', '102', '94', '21'], ['Tokyo', '100', '87', '59', '38'], ['Singapore', '55', '103', '43', '64'], ['Los Angeles', '75', '74', '69', '84'], ['Barcelona', '57', '57', '57', '92'], ['Madrid', '66', '106', '39', '20']]\n"
     ]
    }
   ],
   "source": [
    "import csv\n",
    "\n",
    "def import_csv_file(file_path):\n",
    "    data = []\n",
    "    with open(file_path, 'r') as file:\n",
    "        csv_reader = csv.reader(file)\n",
    "        for row in csv_reader:\n",
    "            data.append(row)\n",
    "    return data\n",
    "\n",
    "file_path = r'C:\\Users\\91737\\Desktop\\weather.csv'  \n",
    "csv_data = import_csv_file(file_path)\n",
    "print(csv_data)\n"
   ]
  },
  {
   "cell_type": "code",
   "execution_count": 2,
   "id": "7b600219",
   "metadata": {
    "scrolled": true
   },
   "outputs": [
    {
     "name": "stdout",
     "output_type": "stream",
     "text": [
      "           City  Season  Temperature\n",
      "0     Barcelona  Spring           57\n",
      "1     Barcelona  Summer           92\n",
      "2     Barcelona    Fall           57\n",
      "3     Barcelona  Winter           57\n",
      "4         Dubai  Summer           21\n",
      "5         Dubai  Spring           94\n",
      "6         Dubai  Winter          102\n",
      "7         Dubai    Fall          107\n",
      "8        London  Summer           21\n",
      "9        London  Winter           94\n",
      "10       London  Spring          103\n",
      "11       London    Fall           68\n",
      "12  Los Angeles    Fall           75\n",
      "13  Los Angeles  Winter           74\n",
      "14  Los Angeles  Spring           69\n",
      "15  Los Angeles  Summer           84\n",
      "16       Madrid  Spring           39\n",
      "17       Madrid  Winter          106\n",
      "18       Madrid  Summer           20\n",
      "19       Madrid    Fall           66\n",
      "20     New York  Spring           84\n",
      "21     New York  Winter          105\n",
      "22     New York    Fall          106\n",
      "23     New York  Summer           70\n",
      "24        Paris  Spring           26\n",
      "25        Paris    Fall           46\n",
      "26        Paris  Winter           86\n",
      "27        Paris  Summer           70\n",
      "28    Singapore  Summer           64\n",
      "29    Singapore    Fall           55\n",
      "30    Singapore  Winter          103\n",
      "31    Singapore  Spring           43\n",
      "32        Tokyo  Summer           38\n",
      "33        Tokyo  Spring           59\n",
      "34        Tokyo    Fall          100\n",
      "35        Tokyo  Winter           87\n"
     ]
    }
   ],
   "source": [
    "#Q1-Answer to data should look like this\n",
    "import pandas as pd\n",
    "\n",
    "# Read data from CSV file\n",
    "file_path = r'C:\\Users\\91737\\Desktop\\weather.csv'\n",
    "weather = pd.read_csv(file_path)\n",
    "\n",
    "# Combine DataFrame to combine Seasons into a single column\n",
    "weather_melted = weather.melt(id_vars=['City'], var_name='Season', value_name='Temperature')\n",
    "\n",
    "# Sort the DataFrame by city\n",
    "weather_melted.sort_values(by='City', inplace=True)\n",
    "\n",
    "weather_melted.reset_index(drop=True, inplace=True)\n",
    "\n",
    "print(weather_melted)\n",
    "\n",
    "\n",
    "\n"
   ]
  },
  {
   "cell_type": "code",
   "execution_count": 8,
   "id": "5ca4e991",
   "metadata": {},
   "outputs": [
    {
     "name": "stdout",
     "output_type": "stream",
     "text": [
      "Dataframe saved successfully.\n"
     ]
    }
   ],
   "source": [
    "#Q2- Generate and save a dataframe with all of the columns: (a) day, \n",
    "#(b) month and (c) year between the current day from the independence day of India.\n",
    "import pandas as pd\n",
    "from datetime import datetime\n",
    "\n",
    "def generate_dates(start_date, end_date):\n",
    "    dates = pd.date_range(start=start_date, end=end_date, freq='D')\n",
    "    return pd.DataFrame({'day': dates.day, 'month': dates.month, 'year': dates.year})\n",
    "\n",
    "# Independence Day of India (August 15th)\n",
    "independence_day = pd.to_datetime(\"1947-08-15\")\n",
    "current_date = datetime.now()\n",
    "\n",
    "# Generate dates between current date and Independence Day\n",
    "dates_df = generate_dates(current_date, independence_day)\n",
    "\n",
    "# Save dataframe to a CSV file\n",
    "dates_df.to_csv('dates_between_current_and_independence_day.csv', index=False)\n",
    "\n",
    "print(\"Dataframe saved successfully.\")\n",
    "\n"
   ]
  },
  {
   "cell_type": "code",
   "execution_count": 7,
   "id": "bf5bc1da",
   "metadata": {},
   "outputs": [
    {
     "name": "stdout",
     "output_type": "stream",
     "text": [
      "[1, 2]\n"
     ]
    }
   ],
   "source": [
    "##Q3-Write a python code for finding out top K frequent item from a list.\n",
    "def top_k_frequent_items(lst, k):\n",
    "    frequency_map = {}\n",
    "    for item in lst:\n",
    "        frequency_map[item] = frequency_map.get(item, 0) + 1\n",
    "    \n",
    "    top_k_items = sorted(frequency_map, key=frequency_map.get, reverse=True)[:k]\n",
    "    \n",
    "    return top_k_items\n",
    "\n",
    "input_list = [1, 2, 3, 4, 5, 1, 2, 3, 1, 2, 1]\n",
    "k = 2\n",
    "output = top_k_frequent_items(input_list, k)\n",
    "print(output)  # Output: [1, 2]\n",
    "\n"
   ]
  },
  {
   "cell_type": "code",
   "execution_count": null,
   "id": "dbc08e32",
   "metadata": {},
   "outputs": [],
   "source": []
  }
 ],
 "metadata": {
  "kernelspec": {
   "display_name": "Python 3 (ipykernel)",
   "language": "python",
   "name": "python3"
  },
  "language_info": {
   "codemirror_mode": {
    "name": "ipython",
    "version": 3
   },
   "file_extension": ".py",
   "mimetype": "text/x-python",
   "name": "python",
   "nbconvert_exporter": "python",
   "pygments_lexer": "ipython3",
   "version": "3.10.9"
  }
 },
 "nbformat": 4,
 "nbformat_minor": 5
}
